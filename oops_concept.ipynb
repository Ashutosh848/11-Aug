{
  "nbformat": 4,
  "nbformat_minor": 0,
  "metadata": {
    "colab": {
      "provenance": []
    },
    "kernelspec": {
      "name": "python3",
      "display_name": "Python 3"
    },
    "language_info": {
      "name": "python"
    }
  },
  "cells": [
    {
      "cell_type": "code",
      "source": [
        "class Person():\n",
        "  name = \"Ashutosh Tiwari\"\n",
        "  course = \"BCA\"\n",
        "  Coach = \"Data Engineering\"\n",
        "  Age= 20\n",
        "  years = \"Chief executive Officer\"\n",
        "  def f(self):\n",
        "    print(f\"My name is{self.name},currently I am pursuing {self.course}.\")\n",
        "    print(f\"I am also doing a offline course named as {self.Coach}.\")\n",
        "    print(f\"Coming to my age I am {self.Age} Years old.\")\n",
        "\n",
        "\n",
        "\n",
        "a = Person()\n",
        "a.f()"
      ],
      "metadata": {
        "colab": {
          "base_uri": "https://localhost:8080/"
        },
        "id": "b1OGu84caGE2",
        "outputId": "170b0d08-203a-4956-8b8b-ac43860b91db"
      },
      "execution_count": null,
      "outputs": [
        {
          "output_type": "stream",
          "name": "stdout",
          "text": [
            "My name isAshutosh Tiwari,currently I am pursuing BCA.\n",
            "I am also doing a offline course named as Data Engineering.\n",
            "Coming to my age I am 20 Years old.\n"
          ]
        }
      ]
    },
    {
      "cell_type": "code",
      "source": [
        "class pali():\n",
        "  num = int(input(\"Enter a value:\"))\n",
        "  temp = num\n",
        "  rev = 0\n",
        "  sum = 0\n",
        "  def now(self):\n",
        "\n",
        "    while(self.num!=0):\n",
        "      digit = self.num%10\n",
        "      self.rev = (self.rev*10)+digit\n",
        "      self.num = self.num//10\n",
        "    if(self.temp==self.rev):\n",
        "      print(f\"{self.temp} is a palindrome.\")\n",
        "    else:\n",
        "      print(f\"This is not a palindrome no:{self.temp}\")\n",
        "\n",
        "  def arm(self):\n",
        "    self.num = self.temp\n",
        "    rev = 0\n",
        "    org = self.num\n",
        "    while(self.num!=0):\n",
        "      digit = self.num%10\n",
        "      rev = (digit**3)+ rev\n",
        "      self.num = self.num//10\n",
        "    if(org == rev):\n",
        "      print(f\"{self.temp} is a armstrong no.\")\n",
        "    else:\n",
        "      print(f\"{self.temp} is not a armstrong no.\")\n",
        "\n",
        "  def __init__(self):\n",
        "    self.num = self.temp\n",
        "\n",
        "    while(self.num!=0):\n",
        "      digit = self.num%10\n",
        "      self.sum = self.sum+digit\n",
        "      self.num = self.num//10\n",
        "    print(f\"The sum of The Given No is:{self.sum}\")\n",
        "\n",
        "\n",
        "  def rev(self):\n",
        "    self.num = self.temp\n",
        "    rev = 0\n",
        "\n",
        "\n",
        "    while(self.num!=0):\n",
        "      digit = self.num%10\n",
        "      rev = (rev*10) + digit\n",
        "      self.num = self.num //10\n",
        "    print(f\"The Reversed number is :{rev}\")\n",
        "\n",
        "  def count(self):\n",
        "    self.num = self.temp\n",
        "    count = 0\n",
        "    while(self.num>0):\n",
        "      digit = self.num%10\n",
        "      count = count+1\n",
        "      self.num = self.num//10\n",
        "    print(f\"The Total digits are:{count}\")\n",
        "\n",
        "\n",
        "a = pali()\n",
        "a.now()\n",
        "a.arm()\n",
        "a.rev()\n",
        "a.count()"
      ],
      "metadata": {
        "id": "oXNiw-M8gBAU",
        "colab": {
          "base_uri": "https://localhost:8080/"
        },
        "outputId": "1110fc4e-3917-431a-ec47-1dfa5802c9e3"
      },
      "execution_count": null,
      "outputs": [
        {
          "output_type": "stream",
          "name": "stdout",
          "text": [
            "Enter a value:153\n",
            "The sum of The Given No is:9\n",
            "This is not a palindrome no:153\n",
            "153 is a armstrong no.\n",
            "The Reversed number is :351\n",
            "The Total digits are:3\n"
          ]
        }
      ]
    },
    {
      "cell_type": "code",
      "source": [
        "class Per():\n",
        "  name = \"Ashutosh Tiwari\"\n",
        "  Age = 20\n",
        "  course = \"Data Engineering\"\n",
        "\n",
        "  def new(self):\n",
        "    print(f\"My name is {self.name} and my age is {self.Age}\")\n",
        "    print(f\"Currently I am doing {self.course}\")\n",
        "\n",
        "\n",
        "b = Per()\n",
        "c = Per()\n",
        "c.name = \"Ashu\"\n",
        "b.new()\n",
        "c.new()"
      ],
      "metadata": {
        "colab": {
          "base_uri": "https://localhost:8080/"
        },
        "id": "JYVA5l25Jk12",
        "outputId": "72d13415-f5bf-4ea6-d5e0-e1f3d41ebc60"
      },
      "execution_count": null,
      "outputs": [
        {
          "output_type": "stream",
          "name": "stdout",
          "text": [
            "My name is Ashutosh Tiwari and my age is 20\n",
            "Currently I am doing Data Engineering\n",
            "My name is Ashu and my age is 20\n",
            "Currently I am doing Data Engineering\n"
          ]
        }
      ]
    },
    {
      "cell_type": "code",
      "source": [
        "class Pattern():\n",
        "  n = int(input(\"Enter a value:\"))\n",
        "\n",
        "  def raw(self):\n",
        "    for r in range(1,self.n+1):\n",
        "      for c in range(1,r+1):\n",
        "        print(\"* \",end = '')\n",
        "      print()\n",
        "\n",
        "  def fr(self):\n",
        "    for r in range(1,self.n+1):\n",
        "      for s in range(0,self.n-r):\n",
        "        print(\" \",end = '')\n",
        "      for c in range(1,r+1):\n",
        "        print(\"*\",end = '')\n",
        "      print()\n",
        "\n",
        "\n",
        "a = Pattern()\n",
        "a.raw()\n",
        "a.fr()"
      ],
      "metadata": {
        "id": "1BispTQyRhwP",
        "colab": {
          "base_uri": "https://localhost:8080/"
        },
        "outputId": "12c9ea04-b831-491e-cba3-17f4d374dd7c"
      },
      "execution_count": null,
      "outputs": [
        {
          "output_type": "stream",
          "name": "stdout",
          "text": [
            "Enter a value:5\n",
            "* \n",
            "* * \n",
            "* * * \n",
            "* * * * \n",
            "* * * * * \n",
            "    *\n",
            "   **\n",
            "  ***\n",
            " ****\n",
            "*****\n"
          ]
        }
      ]
    },
    {
      "cell_type": "code",
      "source": [],
      "metadata": {
        "id": "y9i8mkdc8ZMV"
      },
      "execution_count": null,
      "outputs": []
    }
  ]
}