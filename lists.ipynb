{
  "nbformat": 4,
  "nbformat_minor": 0,
  "metadata": {
    "colab": {
      "provenance": []
    },
    "kernelspec": {
      "name": "python3",
      "display_name": "Python 3"
    },
    "language_info": {
      "name": "python"
    }
  },
  "cells": [
    {
      "cell_type": "code",
      "execution_count": null,
      "metadata": {
        "colab": {
          "base_uri": "https://localhost:8080/"
        },
        "id": "yfPgWSdYD6Sa",
        "outputId": "90e8aa8c-52cb-42f5-d0f5-cc84cd82c1eb"
      },
      "outputs": [
        {
          "output_type": "stream",
          "name": "stdout",
          "text": [
            "34\n",
            "Meenal\n",
            "Meenal\n",
            "67\n",
            "553\n"
          ]
        }
      ],
      "source": [
        "a = [12,34,553,76,\"Ashu\",\"Yashika\",\"Meenal\",\"Harsh\",1,354,67,111,13,54,983]\n",
        "print(a[1])\n",
        "print(a[6])\n",
        "print(a[-9])\n",
        "print(a[-5])\n",
        "print(a[2])"
      ]
    },
    {
      "cell_type": "code",
      "source": [
        "print(type(a),a)"
      ],
      "metadata": {
        "colab": {
          "base_uri": "https://localhost:8080/"
        },
        "id": "AtgpSmuJEYCi",
        "outputId": "97c386a1-6a5e-4af6-f216-66b6f1437140"
      },
      "execution_count": null,
      "outputs": [
        {
          "output_type": "stream",
          "name": "stdout",
          "text": [
            "<class 'list'> [12, 34, 553, 76, 'Ashu', 'Yashika', 'Meenal', 'Harsh', 1, 354, 67, 111, 13, 54, 983]\n"
          ]
        }
      ]
    },
    {
      "cell_type": "code",
      "source": [
        "print(a[1:3:2])\n",
        "print(a[10:1:-3])\n",
        "print(a[-5:10:1])\n",
        "print(a[-4:2:3])\n",
        "print(a[::2])"
      ],
      "metadata": {
        "colab": {
          "base_uri": "https://localhost:8080/"
        },
        "id": "EWzF4oviEerW",
        "outputId": "0da53cda-6add-465b-d6ed-3f2cbb118e24"
      },
      "execution_count": null,
      "outputs": [
        {
          "output_type": "stream",
          "name": "stdout",
          "text": [
            "[34]\n",
            "[67, 'Harsh', 'Ashu']\n",
            "[]\n",
            "[]\n",
            "[12, 553, 'Ashu', 'Meenal', 1, 67, 13, 983]\n"
          ]
        }
      ]
    },
    {
      "cell_type": "code",
      "source": [],
      "metadata": {
        "id": "Jo7hXTw6ErWi"
      },
      "execution_count": null,
      "outputs": []
    }
  ]
}